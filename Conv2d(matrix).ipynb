{
 "cells": [
  {
   "cell_type": "code",
   "execution_count": 17,
   "id": "4f9930e4-5dfe-418b-b2b7-1b5a10e98aa7",
   "metadata": {},
   "outputs": [],
   "source": [
    "import numpy as np"
   ]
  },
  {
   "cell_type": "code",
   "execution_count": 24,
   "id": "f7f052c8-8395-4379-ba9a-5c4190cb58f2",
   "metadata": {},
   "outputs": [],
   "source": [
    "def conv2d(input_matrix, kernal, stride=1, padding=0):\n",
    "\n",
    "    if padding > 0:\n",
    "        input_pad = np.pad(input_matrix, ((padding,padding),(padding,padding)), mode='constant')\n",
    "    else:\n",
    "        input_pad = input_matrix\n",
    "    \n",
    "    input_height, input_width = input_pad.shape\n",
    "    kernal_height, kernal_width = kernal.shape\n",
    "\n",
    "    output_height = (input_height - kernal_height)//stride + 1\n",
    "    output_width = (input_width - kernal_width)//stride + 1\n",
    "\n",
    "    output_matrix = np.zeros((output_height, output_width))\n",
    "\n",
    "    for i in range(0, output_height):\n",
    "        for j in range(0, output_width):\n",
    "            region = input_pad[i*stride:i*stride + kernal_height, j*stride:j*stride + kernal_width]\n",
    "            output_matrix[i, j] = np.sum(region*kernal)\n",
    "    return output_matrix"
   ]
  },
  {
   "cell_type": "code",
   "execution_count": 28,
   "id": "ba0aadea-d69b-480f-8585-4b38d265c297",
   "metadata": {},
   "outputs": [],
   "source": [
    "input_matrix = np.array([[1, 2, 3, 4], [5, 6, 7, 8], [9, 10, 11, 12], [13, 14, 15, 16]])\n",
    "kernal = np.array([[1, 0], [0, -1]])"
   ]
  },
  {
   "cell_type": "code",
   "execution_count": 30,
   "id": "0ceca69c-0744-4b91-a239-8f977e5b9465",
   "metadata": {},
   "outputs": [
    {
     "name": "stdout",
     "output_type": "stream",
     "text": [
      "[[ -1.  -2.  -3.  -4.   0.]\n",
      " [ -5.  -5.  -5.  -5.   4.]\n",
      " [ -9.  -5.  -5.  -5.   8.]\n",
      " [-13.  -5.  -5.  -5.  12.]\n",
      " [  0.  13.  14.  15.  16.]]\n"
     ]
    }
   ],
   "source": [
    "output = conv2d(input_matrix, kernal, stride=1, padding=1)\n",
    "print(output)"
   ]
  }
 ],
 "metadata": {
  "kernelspec": {
   "display_name": "Python 3 (ipykernel)",
   "language": "python",
   "name": "python3"
  },
  "language_info": {
   "codemirror_mode": {
    "name": "ipython",
    "version": 3
   },
   "file_extension": ".py",
   "mimetype": "text/x-python",
   "name": "python",
   "nbconvert_exporter": "python",
   "pygments_lexer": "ipython3",
   "version": "3.11.5"
  }
 },
 "nbformat": 4,
 "nbformat_minor": 5
}
