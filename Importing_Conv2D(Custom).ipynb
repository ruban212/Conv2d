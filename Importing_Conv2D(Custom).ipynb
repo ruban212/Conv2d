{
  "cells": [
    {
      "cell_type": "code",
      "execution_count": 5,
      "id": "fb53eedc-ab36-46ca-a2bd-d0319cd7bc3a",
      "metadata": {
        "id": "fb53eedc-ab36-46ca-a2bd-d0319cd7bc3a"
      },
      "outputs": [],
      "source": [
        "import torch\n",
        "from Custom_Conv2D import RubanConv2D"
      ]
    },
    {
      "cell_type": "code",
      "execution_count": 7,
      "id": "620d8078-e95a-4fc4-a362-d8a28b7f4d29",
      "metadata": {
        "colab": {
          "base_uri": "https://localhost:8080/"
        },
        "id": "620d8078-e95a-4fc4-a362-d8a28b7f4d29",
        "outputId": "601ba0e4-6480-4f44-b9d6-c92f9aa053bd"
      },
      "outputs": [
        {
          "output_type": "stream",
          "name": "stdout",
          "text": [
            "tensor([[ -1.,  -2.,  -3.,  -4.,   0.],\n",
            "        [ -5.,  -5.,  -5.,  -5.,   4.],\n",
            "        [ -9.,  -5.,  -5.,  -5.,   8.],\n",
            "        [-13.,  -5.,  -5.,  -5.,  12.],\n",
            "        [  0.,  13.,  14.,  15.,  16.]])\n"
          ]
        }
      ],
      "source": [
        "input_matrix = torch.tensor([[1, 2, 3, 4], [5, 6, 7 ,8], [9, 10, 11, 12], [13, 14, 15, 16]], dtype=torch.float32)\n",
        "kernel = torch.tensor([[1, 0], [0, -1]], dtype=torch.float32)\n",
        "\n",
        "ruban_conv2d = RubanConv2D(kernel, stride=1, padding= 1)\n",
        "output = ruban_conv2d(input_matrix)\n",
        "print(output)"
      ]
    }
  ],
  "metadata": {
    "kernelspec": {
      "display_name": "Python 3 (ipykernel)",
      "language": "python",
      "name": "python3"
    },
    "language_info": {
      "codemirror_mode": {
        "name": "ipython",
        "version": 3
      },
      "file_extension": ".py",
      "mimetype": "text/x-python",
      "name": "python",
      "nbconvert_exporter": "python",
      "pygments_lexer": "ipython3",
      "version": "3.11.5"
    },
    "colab": {
      "provenance": []
    }
  },
  "nbformat": 4,
  "nbformat_minor": 5
}